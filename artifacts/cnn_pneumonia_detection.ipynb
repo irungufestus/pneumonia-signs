{
 "cells": [
  {
   "cell_type": "code",
   "execution_count": 1,
   "id": "13619bb1",
   "metadata": {},
   "outputs": [],
   "source": [
    "#import libraries\n",
    "from tensorflow.keras.layers  import Input, Lambda, Dense, Flatten,Conv2D,MaxPooling2D\n",
    "from tensorflow.keras.models import Model,Sequential\n",
    "from tensorflow.keras.applications.vgg19 import VGG19\n",
    "from tensorflow.keras.applications.resnet50 import preprocess_input\n",
    "from tensorflow.keras.preprocessing import image\n",
    "from tensorflow.keras.preprocessing.image import ImageDataGenerator,load_img\n",
    "from pathlib import Path\n",
    "import numpy as np\n",
    "from glob import glob\n",
    "import matplotlib.pyplot as plt\n",
    "import os\n",
    "\n"
   ]
  },
  {
   "cell_type": "code",
   "execution_count": 160,
   "id": "2d5954aa",
   "metadata": {},
   "outputs": [
    {
     "name": "stdout",
     "output_type": "stream",
     "text": [
      "2.10.0\n"
     ]
    }
   ],
   "source": [
    "import tensorflow as tf\n",
    "print(tf.__version__)#if version is less than 2.0 remove from tensorflow.keras and  from keras  import libraries"
   ]
  },
  {
   "cell_type": "code",
   "execution_count": 161,
   "id": "58c489e7",
   "metadata": {},
   "outputs": [
    {
     "data": {
      "text/plain": [
       "'D:\\\\malaria_prediction\\\\Dataset\\\\Test'"
      ]
     },
     "execution_count": 161,
     "metadata": {},
     "output_type": "execute_result"
    }
   ],
   "source": [
    "pwd"
   ]
  },
  {
   "cell_type": "code",
   "execution_count": null,
   "id": "ae765a98",
   "metadata": {},
   "outputs": [],
   "source": []
  },
  {
   "attachments": {},
   "cell_type": "markdown",
   "id": "2ce2119f",
   "metadata": {},
   "source": [
    "#  1.Create VGG19 as a base model transfer learning"
   ]
  },
  {
   "cell_type": "code",
   "execution_count": 162,
   "id": "6045d715",
   "metadata": {},
   "outputs": [],
   "source": [
    "'''If you don’t download the weights, you will have to use the architecture to train your model from scratch.\n",
    "Recall that the base model will usually have more units in the final output layer than you require.\n",
    "When creating the base model, you, therefore, have to remove the final output layer.\n",
    "Later on, you will add a final output layer that is compatible with your problem.'''\n",
    "\n",
    "#global  parameters \n",
    "IMG_SIZE=[224,224,3]\n",
    "\n",
    "train_path=(\"D:\\malaria_prediction\\Dataset\\Train\")\n",
    "test_path=(\"D:\\malaria_prediction\\Dataset\\Test\")\n",
    "\n"
   ]
  },
  {
   "cell_type": "code",
   "execution_count": null,
   "id": "ad360d47",
   "metadata": {},
   "outputs": [],
   "source": [
    "# load vgg19  model without classifier layers and specify our new image dataset shape \n",
    "#use imagenet weights\n",
    "vgg19 = VGG19(input_shape=IMG_SIZE, include_top=False,weights=\"imagenet\")\n"
   ]
  },
  {
   "attachments": {},
   "cell_type": "markdown",
   "id": "0216b513",
   "metadata": {},
   "source": [
    "# 2.Freeze layers so they don’t change during training"
   ]
  },
  {
   "cell_type": "code",
   "execution_count": null,
   "id": "cf1369e2",
   "metadata": {},
   "outputs": [],
   "source": [
    "'''This is because you don’t want the weights in those layers to be re-initialized.\n",
    "If they are, then you will lose all the learning that has already taken place.\n",
    "Hence, no different from training the model from scratch'''\n",
    "\n",
    "for layer in vgg19.layers:\n",
    "    layer.trainable = False"
   ]
  },
  {
   "cell_type": "code",
   "execution_count": 94,
   "id": "5b0c7ea5",
   "metadata": {},
   "outputs": [
    {
     "name": "stdout",
     "output_type": "stream",
     "text": [
      "Model: \"vgg19\"\n",
      "_________________________________________________________________\n",
      " Layer (type)                Output Shape              Param #   \n",
      "=================================================================\n",
      " input_10 (InputLayer)       [(None, 224, 224, 3)]     0         \n",
      "                                                                 \n",
      " block1_conv1 (Conv2D)       (None, 224, 224, 64)      1792      \n",
      "                                                                 \n",
      " block1_conv2 (Conv2D)       (None, 224, 224, 64)      36928     \n",
      "                                                                 \n",
      " block1_pool (MaxPooling2D)  (None, 112, 112, 64)      0         \n",
      "                                                                 \n",
      " block2_conv1 (Conv2D)       (None, 112, 112, 128)     73856     \n",
      "                                                                 \n",
      " block2_conv2 (Conv2D)       (None, 112, 112, 128)     147584    \n",
      "                                                                 \n",
      " block2_pool (MaxPooling2D)  (None, 56, 56, 128)       0         \n",
      "                                                                 \n",
      " block3_conv1 (Conv2D)       (None, 56, 56, 256)       295168    \n",
      "                                                                 \n",
      " block3_conv2 (Conv2D)       (None, 56, 56, 256)       590080    \n",
      "                                                                 \n",
      " block3_conv3 (Conv2D)       (None, 56, 56, 256)       590080    \n",
      "                                                                 \n",
      " block3_conv4 (Conv2D)       (None, 56, 56, 256)       590080    \n",
      "                                                                 \n",
      " block3_pool (MaxPooling2D)  (None, 28, 28, 256)       0         \n",
      "                                                                 \n",
      " block4_conv1 (Conv2D)       (None, 28, 28, 512)       1180160   \n",
      "                                                                 \n",
      " block4_conv2 (Conv2D)       (None, 28, 28, 512)       2359808   \n",
      "                                                                 \n",
      " block4_conv3 (Conv2D)       (None, 28, 28, 512)       2359808   \n",
      "                                                                 \n",
      " block4_conv4 (Conv2D)       (None, 28, 28, 512)       2359808   \n",
      "                                                                 \n",
      " block4_pool (MaxPooling2D)  (None, 14, 14, 512)       0         \n",
      "                                                                 \n",
      " block5_conv1 (Conv2D)       (None, 14, 14, 512)       2359808   \n",
      "                                                                 \n",
      " block5_conv2 (Conv2D)       (None, 14, 14, 512)       2359808   \n",
      "                                                                 \n",
      " block5_conv3 (Conv2D)       (None, 14, 14, 512)       2359808   \n",
      "                                                                 \n",
      " block5_conv4 (Conv2D)       (None, 14, 14, 512)       2359808   \n",
      "                                                                 \n",
      " block5_pool (MaxPooling2D)  (None, 7, 7, 512)         0         \n",
      "                                                                 \n",
      "=================================================================\n",
      "Total params: 20,024,384\n",
      "Trainable params: 0\n",
      "Non-trainable params: 20,024,384\n",
      "_________________________________________________________________\n"
     ]
    }
   ],
   "source": [
    "vgg19.summary()"
   ]
  },
  {
   "attachments": {},
   "cell_type": "markdown",
   "id": "d8f0985f",
   "metadata": {},
   "source": [
    "# 3.Add new trainable layers"
   ]
  },
  {
   "cell_type": "code",
   "execution_count": 109,
   "id": "f0fb044a",
   "metadata": {},
   "outputs": [],
   "source": [
    "''' This will turn old features into predictions on the new dataset. \n",
    "This is important because the pre-trained model is loaded without the final output layer.'''\n",
    "\n",
    "# useful for getting number of output classes\n",
    "folders =glob(\"D:\\malaria_prediction\\Dataset\\Train\\*\")"
   ]
  },
  {
   "cell_type": "code",
   "execution_count": 110,
   "id": "fae39f2e",
   "metadata": {},
   "outputs": [
    {
     "data": {
      "text/plain": [
       "['D:\\\\malaria_prediction\\\\Dataset\\\\Train\\\\Parasite',\n",
       " 'D:\\\\malaria_prediction\\\\Dataset\\\\Train\\\\Uninfected']"
      ]
     },
     "execution_count": 110,
     "metadata": {},
     "output_type": "execute_result"
    }
   ],
   "source": [
    "folders"
   ]
  },
  {
   "cell_type": "code",
   "execution_count": 112,
   "id": "2c0c7581",
   "metadata": {},
   "outputs": [],
   "source": [
    "#Add new classifier layers\n",
    "# use the Keras function API to add a new Flatten layer after the last pooling layer in the VGG19\n",
    "x = Flatten()(vgg19.output)\n"
   ]
  },
  {
   "attachments": {},
   "cell_type": "markdown",
   "id": "c4529e6d",
   "metadata": {},
   "source": [
    "# 4.Train the new layers on the dataset"
   ]
  },
  {
   "cell_type": "code",
   "execution_count": 113,
   "id": "fcd1de09",
   "metadata": {},
   "outputs": [
    {
     "name": "stdout",
     "output_type": "stream",
     "text": [
      "Model: \"model\"\n",
      "_________________________________________________________________\n",
      " Layer (type)                Output Shape              Param #   \n",
      "=================================================================\n",
      " input_10 (InputLayer)       [(None, 224, 224, 3)]     0         \n",
      "                                                                 \n",
      " block1_conv1 (Conv2D)       (None, 224, 224, 64)      1792      \n",
      "                                                                 \n",
      " block1_conv2 (Conv2D)       (None, 224, 224, 64)      36928     \n",
      "                                                                 \n",
      " block1_pool (MaxPooling2D)  (None, 112, 112, 64)      0         \n",
      "                                                                 \n",
      " block2_conv1 (Conv2D)       (None, 112, 112, 128)     73856     \n",
      "                                                                 \n",
      " block2_conv2 (Conv2D)       (None, 112, 112, 128)     147584    \n",
      "                                                                 \n",
      " block2_pool (MaxPooling2D)  (None, 56, 56, 128)       0         \n",
      "                                                                 \n",
      " block3_conv1 (Conv2D)       (None, 56, 56, 256)       295168    \n",
      "                                                                 \n",
      " block3_conv2 (Conv2D)       (None, 56, 56, 256)       590080    \n",
      "                                                                 \n",
      " block3_conv3 (Conv2D)       (None, 56, 56, 256)       590080    \n",
      "                                                                 \n",
      " block3_conv4 (Conv2D)       (None, 56, 56, 256)       590080    \n",
      "                                                                 \n",
      " block3_pool (MaxPooling2D)  (None, 28, 28, 256)       0         \n",
      "                                                                 \n",
      " block4_conv1 (Conv2D)       (None, 28, 28, 512)       1180160   \n",
      "                                                                 \n",
      " block4_conv2 (Conv2D)       (None, 28, 28, 512)       2359808   \n",
      "                                                                 \n",
      " block4_conv3 (Conv2D)       (None, 28, 28, 512)       2359808   \n",
      "                                                                 \n",
      " block4_conv4 (Conv2D)       (None, 28, 28, 512)       2359808   \n",
      "                                                                 \n",
      " block4_pool (MaxPooling2D)  (None, 14, 14, 512)       0         \n",
      "                                                                 \n",
      " block5_conv1 (Conv2D)       (None, 14, 14, 512)       2359808   \n",
      "                                                                 \n",
      " block5_conv2 (Conv2D)       (None, 14, 14, 512)       2359808   \n",
      "                                                                 \n",
      " block5_conv3 (Conv2D)       (None, 14, 14, 512)       2359808   \n",
      "                                                                 \n",
      " block5_conv4 (Conv2D)       (None, 14, 14, 512)       2359808   \n",
      "                                                                 \n",
      " block5_pool (MaxPooling2D)  (None, 7, 7, 512)         0         \n",
      "                                                                 \n",
      " flatten_3 (Flatten)         (None, 25088)             0         \n",
      "                                                                 \n",
      " dense_3 (Dense)             (None, 2)                 50178     \n",
      "                                                                 \n",
      "=================================================================\n",
      "Total params: 20,074,562\n",
      "Trainable params: 50,178\n",
      "Non-trainable params: 20,024,384\n",
      "_________________________________________________________________\n"
     ]
    }
   ],
   "source": [
    "'''pre-trained models trained on the ImageNet dataset will output 1000 classes. \n",
    "However,our model might have two classes. In this case, you have to train the model with a new output layer in place. \n",
    "Therefore, you will add some new dense layers as you please, but most importantly,\n",
    "a final dense layer with units corresponding to the number of outputs expected by your model'''\n",
    "\n",
    "prediction = Dense(len(folders), activation='softmax')(x)\n",
    "# create a model object\n",
    "model = Model(inputs=vgg19.input, outputs=prediction)\n",
    "\n",
    "# view the structure of the model\n",
    "model.summary()\n"
   ]
  },
  {
   "attachments": {},
   "cell_type": "markdown",
   "id": "dbd93258",
   "metadata": {},
   "source": [
    "# 2.Create Model from scratch using CNN"
   ]
  },
  {
   "cell_type": "code",
   "execution_count": 121,
   "id": "a18c8770",
   "metadata": {},
   "outputs": [
    {
     "name": "stdout",
     "output_type": "stream",
     "text": [
      "Model: \"sequential_2\"\n",
      "_________________________________________________________________\n",
      " Layer (type)                Output Shape              Param #   \n",
      "=================================================================\n",
      " conv2d_6 (Conv2D)           (None, 224, 224, 16)      208       \n",
      "                                                                 \n",
      " max_pooling2d_6 (MaxPooling  (None, 112, 112, 16)     0         \n",
      " 2D)                                                             \n",
      "                                                                 \n",
      " conv2d_7 (Conv2D)           (None, 112, 112, 32)      2080      \n",
      "                                                                 \n",
      " max_pooling2d_7 (MaxPooling  (None, 56, 56, 32)       0         \n",
      " 2D)                                                             \n",
      "                                                                 \n",
      " conv2d_8 (Conv2D)           (None, 56, 56, 64)        8256      \n",
      "                                                                 \n",
      " max_pooling2d_8 (MaxPooling  (None, 28, 28, 64)       0         \n",
      " 2D)                                                             \n",
      "                                                                 \n",
      " flatten_5 (Flatten)         (None, 50176)             0         \n",
      "                                                                 \n",
      " dense_6 (Dense)             (None, 500)               25088500  \n",
      "                                                                 \n",
      " dense_7 (Dense)             (None, 2)                 1002      \n",
      "                                                                 \n",
      "=================================================================\n",
      "Total params: 25,100,046\n",
      "Trainable params: 25,100,046\n",
      "Non-trainable params: 0\n",
      "_________________________________________________________________\n"
     ]
    }
   ],
   "source": [
    "  \n",
    "\n",
    "model=Sequential()\n",
    "model.add(Conv2D(filters=16,kernel_size=2,padding=\"same\",activation=\"relu\",input_shape=(224,224,3)))\n",
    "model.add(MaxPooling2D(pool_size=2))\n",
    "model.add(Conv2D(filters=32,kernel_size=2,padding=\"same\",activation =\"relu\"))\n",
    "model.add(MaxPooling2D(pool_size=2))\n",
    "model.add(Conv2D(filters=64,kernel_size=2,padding=\"same\",activation=\"relu\"))\n",
    "model.add(MaxPooling2D(pool_size=2))\n",
    "model.add(Flatten())\n",
    "model.add(Dense(500,activation=\"relu\"))\n",
    "model.add(Dense(2,activation=\"softmax\"))\n",
    "model.summary()"
   ]
  },
  {
   "attachments": {},
   "cell_type": "markdown",
   "id": "356a0057",
   "metadata": {},
   "source": [
    "# Compile the model"
   ]
  },
  {
   "cell_type": "code",
   "execution_count": 122,
   "id": "ed96ce0b",
   "metadata": {},
   "outputs": [],
   "source": [
    "# tell the model what cost and optimization method to use \n",
    "#in this case 2 nodes are required as output\n",
    "model.compile(\n",
    "  loss='categorical_crossentropy',\n",
    "  optimizer='adam',\n",
    "  metrics=['accuracy']\n",
    ")"
   ]
  },
  {
   "cell_type": "code",
   "execution_count": 164,
   "id": "f00fd3a2",
   "metadata": {},
   "outputs": [],
   "source": [
    "\n",
    "# Use the Image Data Generator to import the images from the dataset\n",
    "#Applying image augumentatations \n",
    "from tensorflow.keras.preprocessing.image import ImageDataGenerator\n",
    "\n",
    "train_datagen = ImageDataGenerator(rescale = 1./255,\n",
    "                                   shear_range = 0.2,\n",
    "                                   zoom_range = 0.2,\n",
    "                                   horizontal_flip = True)\n",
    "\n",
    "test_datagen = ImageDataGenerator(rescale = 1./255)\n",
    "\n"
   ]
  },
  {
   "cell_type": "code",
   "execution_count": 165,
   "id": "ce9f1e2c",
   "metadata": {},
   "outputs": [
    {
     "name": "stdout",
     "output_type": "stream",
     "text": [
      "Found 416 images belonging to 2 classes.\n"
     ]
    }
   ],
   "source": [
    "# Make sure you provide the same target size as initialied for the image size\n",
    "training_set = train_datagen.flow_from_directory(\"D:\\malaria_prediction\\Dataset\\Train\", \n",
    "                                                 target_size = (224, 224),\n",
    "                                                 batch_size = 32,\n",
    "                                                 class_mode = 'categorical')\n"
   ]
  },
  {
   "cell_type": "code",
   "execution_count": 166,
   "id": "d72e3199",
   "metadata": {},
   "outputs": [
    {
     "data": {
      "text/plain": [
       "<keras.preprocessing.image.DirectoryIterator at 0x2a1218b6e30>"
      ]
     },
     "execution_count": 166,
     "metadata": {},
     "output_type": "execute_result"
    }
   ],
   "source": [
    "training_set"
   ]
  },
  {
   "cell_type": "code",
   "execution_count": 167,
   "id": "31c7f96b",
   "metadata": {},
   "outputs": [
    {
     "name": "stdout",
     "output_type": "stream",
     "text": [
      "Found 134 images belonging to 2 classes.\n"
     ]
    }
   ],
   "source": [
    "test_set=test_datagen.flow_from_directory(\"D:\\malaria_prediction\\Dataset\\Test\",\n",
    "                                          target_size = (224, 224),\n",
    "                                          batch_size = 32,\n",
    "                                          class_mode = 'categorical')"
   ]
  },
  {
   "cell_type": "code",
   "execution_count": 168,
   "id": "925e549d",
   "metadata": {},
   "outputs": [
    {
     "data": {
      "text/plain": [
       "<keras.preprocessing.image.DirectoryIterator at 0x2a1218b7400>"
      ]
     },
     "execution_count": 168,
     "metadata": {},
     "output_type": "execute_result"
    }
   ],
   "source": [
    "test_set"
   ]
  },
  {
   "cell_type": "code",
   "execution_count": 140,
   "id": "cb715b25",
   "metadata": {},
   "outputs": [
    {
     "name": "stdout",
     "output_type": "stream",
     "text": [
      "Epoch 1/15\n",
      "13/13 [==============================] - 37s 3s/step - loss: 0.1585 - accuracy: 0.9447 - val_loss: 0.4051 - val_accuracy: 0.8358\n",
      "Epoch 2/15\n",
      "13/13 [==============================] - 37s 3s/step - loss: 0.1392 - accuracy: 0.9519 - val_loss: 0.3694 - val_accuracy: 0.8060\n",
      "Epoch 3/15\n",
      "13/13 [==============================] - 36s 3s/step - loss: 0.0965 - accuracy: 0.9712 - val_loss: 0.4050 - val_accuracy: 0.7836\n",
      "Epoch 4/15\n",
      "13/13 [==============================] - 36s 3s/step - loss: 0.1800 - accuracy: 0.9399 - val_loss: 0.3224 - val_accuracy: 0.8507\n",
      "Epoch 5/15\n",
      "13/13 [==============================] - 38s 3s/step - loss: 0.1207 - accuracy: 0.9591 - val_loss: 0.3412 - val_accuracy: 0.8209\n",
      "Epoch 6/15\n",
      "13/13 [==============================] - 35s 3s/step - loss: 0.1154 - accuracy: 0.9543 - val_loss: 0.3700 - val_accuracy: 0.8507\n",
      "Epoch 7/15\n",
      "13/13 [==============================] - 36s 3s/step - loss: 0.1163 - accuracy: 0.9688 - val_loss: 0.2983 - val_accuracy: 0.8731\n",
      "Epoch 8/15\n",
      "13/13 [==============================] - 34s 3s/step - loss: 0.0747 - accuracy: 0.9784 - val_loss: 0.3823 - val_accuracy: 0.8582\n",
      "Epoch 9/15\n",
      "13/13 [==============================] - 32s 2s/step - loss: 0.0638 - accuracy: 0.9688 - val_loss: 0.3181 - val_accuracy: 0.8284\n",
      "Epoch 10/15\n",
      "13/13 [==============================] - 32s 2s/step - loss: 0.0903 - accuracy: 0.9736 - val_loss: 0.2408 - val_accuracy: 0.8955\n",
      "Epoch 11/15\n",
      "13/13 [==============================] - 32s 2s/step - loss: 0.0636 - accuracy: 0.9832 - val_loss: 0.3913 - val_accuracy: 0.8358\n",
      "Epoch 12/15\n",
      "13/13 [==============================] - 32s 2s/step - loss: 0.0788 - accuracy: 0.9808 - val_loss: 0.2202 - val_accuracy: 0.9030\n",
      "Epoch 13/15\n",
      "13/13 [==============================] - 32s 2s/step - loss: 0.0641 - accuracy: 0.9880 - val_loss: 0.2564 - val_accuracy: 0.8881\n",
      "Epoch 14/15\n",
      "13/13 [==============================] - 32s 2s/step - loss: 0.0724 - accuracy: 0.9736 - val_loss: 0.4824 - val_accuracy: 0.8433\n",
      "Epoch 15/15\n",
      "13/13 [==============================] - 33s 2s/step - loss: 0.0794 - accuracy: 0.9784 - val_loss: 0.2827 - val_accuracy: 0.8806\n"
     ]
    }
   ],
   "source": [
    "# fit the model\n",
    "# Run the cell. It will take some time to execute\n",
    "r = model.fit(\n",
    "  training_set,\n",
    "  validation_data=test_set,\n",
    "  epochs=15,\n",
    "  steps_per_epoch=len(training_set),\n",
    "  validation_steps=len(test_set)\n",
    ")"
   ]
  },
  {
   "cell_type": "code",
   "execution_count": 169,
   "id": "e251d2f7",
   "metadata": {},
   "outputs": [
    {
     "data": {
      "image/png": "[encoded data removed]",
      "text/plain": [
       "<Figure size 640x480 with 1 Axes>"
      ]
     },
     "metadata": {},
     "output_type": "display_data"
    },
    {
     "data": {
      "text/plain": [
       "<Figure size 640x480 with 0 Axes>"
      ]
     },
     "metadata": {},
     "output_type": "display_data"
    }
   ],
   "source": [
    "# plot the loss\n",
    "plt.plot(r.history['loss'], label='train loss')\n",
    "plt.plot(r.history['val_loss'], label='val loss')\n",
    "plt.legend()\n",
    "plt.show()\n",
    "plt.savefig('LossVal_loss')\n",
    "\n"
   ]
  },
  {
   "cell_type": "code",
   "execution_count": 170,
   "id": "8bad0b39",
   "metadata": {},
   "outputs": [
    {
     "data": {
      "image/png": "[encoded data removed]",
      "text/plain": [
       "<Figure size 640x480 with 1 Axes>"
      ]
     },
     "metadata": {},
     "output_type": "display_data"
    },
    {
     "data": {
      "text/plain": [
       "<Figure size 640x480 with 0 Axes>"
      ]
     },
     "metadata": {},
     "output_type": "display_data"
    }
   ],
   "source": [
    "# plot the accuracy\n",
    "plt.plot(r.history['accuracy'], label='train acc')\n",
    "plt.plot(r.history['val_accuracy'], label='val acc')\n",
    "plt.legend()\n",
    "plt.show()\n",
    "plt.savefig('AccVal_acc')"
   ]
  },
  {
   "cell_type": "code",
   "execution_count": 171,
   "id": "c4f84b1c",
   "metadata": {},
   "outputs": [],
   "source": [
    "# save it as a h5 file\n",
    "\n",
    "\n",
    "from tensorflow.keras.models import load_model\n",
    "\n",
    "model.save('model_vgg19.h5')"
   ]
  },
  {
   "cell_type": "code",
   "execution_count": 172,
   "id": "2842d95c",
   "metadata": {},
   "outputs": [
    {
     "name": "stdout",
     "output_type": "stream",
     "text": [
      "5/5 [==============================] - 2s 306ms/step\n"
     ]
    }
   ],
   "source": [
    "y_pred = model.predict(test_set)"
   ]
  },
  {
   "cell_type": "code",
   "execution_count": 173,
   "id": "501c6a59",
   "metadata": {},
   "outputs": [
    {
     "data": {
      "text/plain": [
       "array([[9.76661205e-01, 2.33387332e-02],\n",
       "       [2.53480464e-01, 7.46519566e-01],\n",
       "       [9.99999940e-01, 7.09484663e-13],\n",
       "       [7.83123225e-02, 9.21687603e-01],\n",
       "       [9.99999940e-01, 5.74174250e-11],\n",
       "       [9.99985754e-01, 1.41443161e-05],\n",
       "       [3.34516093e-02, 9.66548383e-01],\n",
       "       [9.99999940e-01, 2.23998210e-17],\n",
       "       [4.92191203e-02, 9.50780809e-01],\n",
       "       [3.34844850e-02, 9.66515541e-01],\n",
       "       [7.25693181e-02, 9.27430749e-01],\n",
       "       [2.67158002e-01, 7.32842028e-01],\n",
       "       [9.99999940e-01, 2.23472300e-11],\n",
       "       [9.99586999e-01, 4.13057947e-04],\n",
       "       [9.99719143e-01, 2.80941807e-04],\n",
       "       [4.83718775e-02, 9.51628089e-01],\n",
       "       [5.49068190e-02, 9.45093095e-01],\n",
       "       [8.26857686e-02, 9.17314231e-01],\n",
       "       [2.84072846e-01, 7.15927184e-01],\n",
       "       [6.31680489e-02, 9.36831951e-01],\n",
       "       [9.99374330e-01, 6.25651970e-04],\n",
       "       [2.96799839e-02, 9.70320046e-01],\n",
       "       [9.99747992e-01, 2.52015830e-04],\n",
       "       [1.30571783e-01, 8.69428277e-01],\n",
       "       [7.68806785e-02, 9.23119366e-01],\n",
       "       [5.31974174e-02, 9.46802557e-01],\n",
       "       [1.23355433e-01, 8.76644552e-01],\n",
       "       [7.34805986e-02, 9.26519394e-01],\n",
       "       [3.90634909e-02, 9.60936606e-01],\n",
       "       [1.35715187e-01, 8.64284813e-01],\n",
       "       [1.44660443e-01, 8.55339646e-01],\n",
       "       [9.99617279e-01, 3.82704486e-04],\n",
       "       [9.99999940e-01, 4.43048723e-12],\n",
       "       [1.23761564e-01, 8.76238346e-01],\n",
       "       [4.26839441e-02, 9.57316041e-01],\n",
       "       [9.99999821e-01, 7.56650138e-08],\n",
       "       [9.98595357e-01, 1.40454923e-03],\n",
       "       [9.99999583e-01, 3.41863142e-07],\n",
       "       [9.99744415e-01, 2.55682506e-04],\n",
       "       [9.99999940e-01, 3.06441227e-11],\n",
       "       [1.07371055e-01, 8.92628968e-01],\n",
       "       [4.46048491e-02, 9.55395103e-01],\n",
       "       [9.99999940e-01, 2.66478700e-10],\n",
       "       [9.99996960e-01, 2.98799978e-06],\n",
       "       [9.99516547e-01, 4.83384589e-04],\n",
       "       [9.99967635e-01, 3.23152744e-05],\n",
       "       [4.11803499e-02, 9.58819628e-01],\n",
       "       [9.97502744e-01, 2.49724090e-03],\n",
       "       [2.07471281e-01, 7.92528629e-01],\n",
       "       [2.26439774e-01, 7.73560107e-01],\n",
       "       [9.99999106e-01, 8.74265652e-07],\n",
       "       [9.99216974e-01, 7.83053343e-04],\n",
       "       [9.99754786e-01, 2.45317584e-04],\n",
       "       [2.03847602e-01, 7.96152234e-01],\n",
       "       [9.98787880e-01, 1.21203694e-03],\n",
       "       [8.41478705e-02, 9.15852070e-01],\n",
       "       [9.99993265e-01, 6.66528877e-06],\n",
       "       [9.99999940e-01, 9.07434483e-09],\n",
       "       [1.07307129e-01, 8.92692804e-01],\n",
       "       [2.15635195e-01, 7.84364760e-01],\n",
       "       [1.02431752e-01, 8.97568226e-01],\n",
       "       [1.30285144e-01, 8.69714797e-01],\n",
       "       [6.94535524e-02, 9.30546463e-01],\n",
       "       [9.99999940e-01, 1.07780750e-10],\n",
       "       [9.95491147e-01, 4.50882316e-03],\n",
       "       [8.22169960e-01, 1.77829981e-01],\n",
       "       [9.99993265e-01, 6.63879064e-06],\n",
       "       [9.99970257e-01, 2.96538747e-05],\n",
       "       [9.99977767e-01, 2.21212158e-05],\n",
       "       [9.99989092e-01, 1.08031663e-05],\n",
       "       [3.49977493e-01, 6.50022447e-01],\n",
       "       [9.99999940e-01, 3.46458380e-21],\n",
       "       [9.99474823e-01, 5.25096606e-04],\n",
       "       [9.99999464e-01, 4.73584976e-07],\n",
       "       [9.99991596e-01, 8.33753529e-06],\n",
       "       [1.64787024e-01, 8.35212946e-01],\n",
       "       [9.99999821e-01, 1.47398282e-07],\n",
       "       [5.13015948e-02, 9.48698461e-01],\n",
       "       [9.99999225e-01, 7.18354954e-07],\n",
       "       [9.99999940e-01, 1.65179603e-08],\n",
       "       [9.99695539e-01, 3.04482674e-04],\n",
       "       [9.99999940e-01, 3.69936156e-12],\n",
       "       [1.09911524e-01, 8.90088320e-01],\n",
       "       [4.15128060e-02, 9.58487213e-01],\n",
       "       [9.99284506e-01, 7.15602015e-04],\n",
       "       [6.53171539e-01, 3.46828461e-01],\n",
       "       [4.32327054e-02, 9.56767261e-01],\n",
       "       [1.55408427e-01, 8.44591498e-01],\n",
       "       [9.99999702e-01, 2.93251105e-07],\n",
       "       [9.99981105e-01, 1.88167196e-05],\n",
       "       [9.99903142e-01, 9.68160966e-05],\n",
       "       [1.05736636e-01, 8.94263327e-01],\n",
       "       [9.99340951e-01, 6.59050012e-04],\n",
       "       [9.63998288e-02, 9.03600216e-01],\n",
       "       [5.59272543e-02, 9.44072664e-01],\n",
       "       [6.48128837e-02, 9.35187042e-01],\n",
       "       [8.84517908e-01, 1.15482062e-01],\n",
       "       [9.99385655e-01, 6.14383316e-04],\n",
       "       [1.58076361e-01, 8.41923535e-01],\n",
       "       [9.99999940e-01, 1.62320308e-08],\n",
       "       [9.99999821e-01, 7.20018960e-08],\n",
       "       [9.99836683e-01, 1.63439006e-04],\n",
       "       [9.99999940e-01, 8.04407860e-11],\n",
       "       [2.41512470e-02, 9.75848854e-01],\n",
       "       [2.56257709e-02, 9.74374294e-01],\n",
       "       [9.97528791e-01, 2.47122394e-03],\n",
       "       [9.99999464e-01, 4.79901473e-07],\n",
       "       [8.87870848e-01, 1.12129070e-01],\n",
       "       [9.99592841e-01, 4.07125975e-04],\n",
       "       [8.53021070e-02, 9.14697766e-01],\n",
       "       [9.99996841e-01, 3.05692720e-06],\n",
       "       [1.40754178e-01, 8.59245777e-01],\n",
       "       [9.97445703e-01, 2.55429861e-03],\n",
       "       [3.29261795e-02, 9.67073858e-01],\n",
       "       [8.04088041e-02, 9.19591188e-01],\n",
       "       [9.99890625e-01, 1.09318491e-04],\n",
       "       [3.07184290e-02, 9.69281554e-01],\n",
       "       [9.99994695e-01, 5.26706663e-06],\n",
       "       [9.99999940e-01, 1.23934244e-14],\n",
       "       [4.11849134e-02, 9.58815038e-01],\n",
       "       [9.99991715e-01, 8.23022219e-06],\n",
       "       [1.18847350e-02, 9.88115370e-01],\n",
       "       [9.99998868e-01, 1.03505647e-06],\n",
       "       [9.99701977e-01, 2.98041414e-04],\n",
       "       [9.99668479e-01, 3.31575982e-04],\n",
       "       [2.35731140e-01, 7.64268935e-01],\n",
       "       [9.99999940e-01, 3.71836322e-08],\n",
       "       [9.99999821e-01, 9.91421629e-08],\n",
       "       [9.23364043e-01, 7.66359791e-02],\n",
       "       [9.97813106e-01, 2.18684319e-03],\n",
       "       [9.99998093e-01, 1.90714206e-06],\n",
       "       [9.86462757e-02, 9.01353717e-01],\n",
       "       [4.08759490e-02, 9.59124029e-01],\n",
       "       [9.99968767e-01, 3.11816220e-05]], dtype=float32)"
      ]
     },
     "execution_count": 173,
     "metadata": {},
     "output_type": "execute_result"
    }
   ],
   "source": [
    "y_pred\n"
   ]
  },
  {
   "cell_type": "code",
   "execution_count": 174,
   "id": "0805a630",
   "metadata": {},
   "outputs": [],
   "source": [
    "import numpy as np\n",
    "y_pred = np.argmax(y_pred, axis=1)\n"
   ]
  },
  {
   "cell_type": "code",
   "execution_count": 175,
   "id": "5f7e7ac0",
   "metadata": {},
   "outputs": [
    {
     "data": {
      "text/plain": [
       "array([0, 1, 0, 1, 0, 0, 1, 0, 1, 1, 1, 1, 0, 0, 0, 1, 1, 1, 1, 1, 0, 1,\n",
       "       0, 1, 1, 1, 1, 1, 1, 1, 1, 0, 0, 1, 1, 0, 0, 0, 0, 0, 1, 1, 0, 0,\n",
       "       0, 0, 1, 0, 1, 1, 0, 0, 0, 1, 0, 1, 0, 0, 1, 1, 1, 1, 1, 0, 0, 0,\n",
       "       0, 0, 0, 0, 1, 0, 0, 0, 0, 1, 0, 1, 0, 0, 0, 0, 1, 1, 0, 0, 1, 1,\n",
       "       0, 0, 0, 1, 0, 1, 1, 1, 0, 0, 1, 0, 0, 0, 0, 1, 1, 0, 0, 0, 0, 1,\n",
       "       0, 1, 0, 1, 1, 0, 1, 0, 0, 1, 0, 1, 0, 0, 0, 1, 0, 0, 0, 0, 0, 1,\n",
       "       1, 0], dtype=int64)"
      ]
     },
     "execution_count": 175,
     "metadata": {},
     "output_type": "execute_result"
    }
   ],
   "source": [
    "y_pred\n"
   ]
  },
  {
   "cell_type": "code",
   "execution_count": 184,
   "id": "b4016d6c",
   "metadata": {},
   "outputs": [],
   "source": [
    "from tensorflow.keras.models import load_model\n",
    "from tensorflow.keras.preprocessing import image"
   ]
  },
  {
   "cell_type": "code",
   "execution_count": 188,
   "id": "b86082bb",
   "metadata": {},
   "outputs": [],
   "source": [
    "model=load_model('model_vgg19.h5')"
   ]
  },
  {
   "cell_type": "code",
   "execution_count": 194,
   "id": "baca8945",
   "metadata": {},
   "outputs": [],
   "source": [
    "img=image.load_img('D:\\\\malaria_prediction\\\\Dataset\\\\Train\\\\Uninfected\\\\C1_thinF_IMG_20150604_104722_cell_66.PNG',target_size=(224,224))"
   ]
  },
  {
   "cell_type": "code",
   "execution_count": 195,
   "id": "77b10ecc",
   "metadata": {},
   "outputs": [
    {
     "data": {
      "text/plain": [
       "array([[[0., 0., 0.],\n",
       "        [0., 0., 0.],\n",
       "        [0., 0., 0.],\n",
       "        ...,\n",
       "        [0., 0., 0.],\n",
       "        [0., 0., 0.],\n",
       "        [0., 0., 0.]],\n",
       "\n",
       "       [[0., 0., 0.],\n",
       "        [0., 0., 0.],\n",
       "        [0., 0., 0.],\n",
       "        ...,\n",
       "        [0., 0., 0.],\n",
       "        [0., 0., 0.],\n",
       "        [0., 0., 0.]],\n",
       "\n",
       "       [[0., 0., 0.],\n",
       "        [0., 0., 0.],\n",
       "        [0., 0., 0.],\n",
       "        ...,\n",
       "        [0., 0., 0.],\n",
       "        [0., 0., 0.],\n",
       "        [0., 0., 0.]],\n",
       "\n",
       "       ...,\n",
       "\n",
       "       [[0., 0., 0.],\n",
       "        [0., 0., 0.],\n",
       "        [0., 0., 0.],\n",
       "        ...,\n",
       "        [0., 0., 0.],\n",
       "        [0., 0., 0.],\n",
       "        [0., 0., 0.]],\n",
       "\n",
       "       [[0., 0., 0.],\n",
       "        [0., 0., 0.],\n",
       "        [0., 0., 0.],\n",
       "        ...,\n",
       "        [0., 0., 0.],\n",
       "        [0., 0., 0.],\n",
       "        [0., 0., 0.]],\n",
       "\n",
       "       [[0., 0., 0.],\n",
       "        [0., 0., 0.],\n",
       "        [0., 0., 0.],\n",
       "        ...,\n",
       "        [0., 0., 0.],\n",
       "        [0., 0., 0.],\n",
       "        [0., 0., 0.]]], dtype=float32)"
      ]
     },
     "execution_count": 195,
     "metadata": {},
     "output_type": "execute_result"
    }
   ],
   "source": [
    "x=image.img_to_array(img)\n",
    "x"
   ]
  },
  {
   "cell_type": "code",
   "execution_count": 196,
   "id": "57ee62d7",
   "metadata": {},
   "outputs": [
    {
     "data": {
      "text/plain": [
       "(224, 224, 3)"
      ]
     },
     "execution_count": 196,
     "metadata": {},
     "output_type": "execute_result"
    }
   ],
   "source": [
    "x.shape"
   ]
  },
  {
   "cell_type": "code",
   "execution_count": 198,
   "id": "a480ffee",
   "metadata": {},
   "outputs": [],
   "source": [
    "#rescaling \n",
    "x=x/255"
   ]
  },
  {
   "cell_type": "code",
   "execution_count": 199,
   "id": "47f04adf",
   "metadata": {},
   "outputs": [
    {
     "data": {
      "text/plain": [
       "(1, 224, 224, 3)"
      ]
     },
     "execution_count": 199,
     "metadata": {},
     "output_type": "execute_result"
    }
   ],
   "source": [
    "#expanding dimension\n",
    "x=np.expand_dims(x,axis=0)\n",
    "img_data=preprocess_input(x)\n",
    "img_data.shape"
   ]
  },
  {
   "cell_type": "code",
   "execution_count": 203,
   "id": "c3560dcf",
   "metadata": {},
   "outputs": [
    {
     "name": "stdout",
     "output_type": "stream",
     "text": [
      "1/1 [==============================] - 0s 80ms/step\n"
     ]
    },
    {
     "data": {
      "text/plain": [
       "array([[1., 0.]], dtype=float32)"
      ]
     },
     "execution_count": 203,
     "metadata": {},
     "output_type": "execute_result"
    }
   ],
   "source": [
    "model.predict(img_data)"
   ]
  },
  {
   "cell_type": "code",
   "execution_count": 204,
   "id": "d4f223ef",
   "metadata": {},
   "outputs": [
    {
     "name": "stdout",
     "output_type": "stream",
     "text": [
      "1/1 [==============================] - 0s 55ms/step\n"
     ]
    }
   ],
   "source": [
    "a=np.argmax(model.predict(img_data), axis=1)"
   ]
  },
  {
   "cell_type": "code",
   "execution_count": 205,
   "id": "21aa7f8b",
   "metadata": {},
   "outputs": [
    {
     "name": "stdout",
     "output_type": "stream",
     "text": [
      "unfected\n"
     ]
    }
   ],
   "source": [
    "if(a==1):\n",
    "    print(\"infected\")\n",
    "else:\n",
    "    print(\"uninfected\")"
   ]
  },
  {
   "cell_type": "code",
   "execution_count": null,
   "id": "426e87c3",
   "metadata": {},
   "outputs": [],
   "source": []
  }
 ],
 "metadata": {
  "kernelspec": {
   "display_name": "Python 3 (ipykernel)",
   "language": "python",
   "name": "python3"
  },
  "language_info": {
   "codemirror_mode": {
    "name": "ipython",
    "version": 3
   },
   "file_extension": ".py",
   "mimetype": "text/x-python",
   "name": "python",
   "nbconvert_exporter": "python",
   "pygments_lexer": "ipython3",
   "version": "3.11.3"
  }
 },
 "nbformat": 4,
 "nbformat_minor": 5
}
